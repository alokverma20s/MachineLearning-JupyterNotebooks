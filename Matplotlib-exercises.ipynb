{
 "cells": [
  {
   "cell_type": "markdown",
   "metadata": {},
   "source": [
    "# Matplotlib Practice\n",
    "\n",
    "This notebook offers a set of exercises to different tasks with Matplotlib.\n",
    "\n",
    "It should be noted there may be more than one different way to answer a question or complete an exercise.\n",
    "\n",
    "Different tasks will be detailed by comments or text.\n",
    "\n",
    "For further reference and resources, it's advised to check out the [Matplotlib documentation](https://matplotlib.org/3.1.1/contents.html).\n",
    "\n",
    "If you're stuck, don't forget, you can always search for a function, for example if you want to create a plot with `plt.subplots()`, search for [`plt.subplots()`](https://www.google.com/search?q=plt.subplots())."
   ]
  },
  {
   "cell_type": "code",
   "execution_count": 1,
   "metadata": {},
   "outputs": [],
   "source": [
    "# Import the pyplot module from matplotlib as plt and make sure \n",
    "# plots appear in the notebook using '%matplotlib inline'\n",
    "%matplotlib inline\n",
    "import matplotlib.pyplot as plt"
   ]
  },
  {
   "cell_type": "code",
   "execution_count": 2,
   "metadata": {},
   "outputs": [
    {
     "data": {
      "text/plain": [
       "[]"
      ]
     },
     "execution_count": 2,
     "metadata": {},
     "output_type": "execute_result"
    },
    {
     "data": {
      "image/png": "[encoded data removed]",
      "text/plain": [
       "<Figure size 640x480 with 1 Axes>"
      ]
     },
     "metadata": {},
     "output_type": "display_data"
    }
   ],
   "source": [
    "# Create a simple plot using plt.plot()\n",
    "plt.plot()"
   ]
  },
  {
   "cell_type": "code",
   "execution_count": 4,
   "metadata": {},
   "outputs": [
    {
     "data": {
      "image/png": "[encoded data removed]",
      "text/plain": [
       "<Figure size 640x480 with 1 Axes>"
      ]
     },
     "metadata": {},
     "output_type": "display_data"
    }
   ],
   "source": [
    "# Plot a single Python list\n",
    "list1 = [1,3,5,6,7,10,7,8,8,9,]\n",
    "plt.plot(list1);"
   ]
  },
  {
   "cell_type": "code",
   "execution_count": 4,
   "metadata": {},
   "outputs": [],
   "source": [
    "# Create two lists, one called X, one called y, each with 5 numbers in them\n"
   ]
  },
  {
   "cell_type": "code",
   "execution_count": 5,
   "metadata": {},
   "outputs": [],
   "source": [
    "# Plot X & y (the lists you've created)\n"
   ]
  },
  {
   "cell_type": "markdown",
   "metadata": {},
   "source": [
    "There's another way to create plots with Matplotlib, it's known as the object-orientated (OO) method. Let's try it."
   ]
  },
  {
   "cell_type": "code",
   "execution_count": 6,
   "metadata": {},
   "outputs": [],
   "source": [
    "# Create a plot using plt.subplots()\n"
   ]
  },
  {
   "cell_type": "code",
   "execution_count": 7,
   "metadata": {},
   "outputs": [],
   "source": [
    "# Create a plot using plt.subplots() and then add X & y on the axes\n"
   ]
  },
  {
   "cell_type": "markdown",
   "metadata": {},
   "source": [
    "Now let's try a small matplotlib workflow."
   ]
  },
  {
   "cell_type": "code",
   "execution_count": 8,
   "metadata": {},
   "outputs": [],
   "source": [
    "# Import and get matplotlib ready\n",
    "\n",
    "\n",
    "# Prepare data (create two lists of 5 numbers, X & y)\n",
    "\n",
    "\n",
    "# Setup figure and axes using plt.subplots()\n",
    "\n",
    "\n",
    "# Add data (X, y) to axes\n",
    "\n",
    "\n",
    "# Customize plot by adding a title, xlabel and ylabel\n",
    "\n",
    "\n",
    "# Save the plot to file using fig.savefig()\n"
   ]
  },
  {
   "cell_type": "markdown",
   "metadata": {},
   "source": [
    "Okay, this is a simple line plot, how about something a little different?\n",
    "\n",
    "To help us, we'll import NumPy."
   ]
  },
  {
   "cell_type": "code",
   "execution_count": 9,
   "metadata": {},
   "outputs": [],
   "source": [
    "# Import NumPy as np\n"
   ]
  },
  {
   "cell_type": "code",
   "execution_count": 10,
   "metadata": {},
   "outputs": [],
   "source": [
    "# Create an array of 100 evenly spaced numbers between 0 and 100 using NumPy and save it to variable X\n"
   ]
  },
  {
   "cell_type": "code",
   "execution_count": 11,
   "metadata": {},
   "outputs": [],
   "source": [
    "# Create a plot using plt.subplots() and plot X versus X^2 (X squared)\n"
   ]
  },
  {
   "cell_type": "markdown",
   "metadata": {},
   "source": [
    "We'll start with scatter plots."
   ]
  },
  {
   "cell_type": "code",
   "execution_count": 12,
   "metadata": {},
   "outputs": [],
   "source": [
    "# Create a scatter plot of X versus the exponential of X (np.exp(X))\n"
   ]
  },
  {
   "cell_type": "code",
   "execution_count": 13,
   "metadata": {},
   "outputs": [],
   "source": [
    "# Create a scatter plot of X versus np.sin(X)\n"
   ]
  },
  {
   "cell_type": "markdown",
   "metadata": {},
   "source": [
    "How about we try another type of plot? This time let's look at a bar plot. First we'll make some data."
   ]
  },
  {
   "cell_type": "code",
   "execution_count": 14,
   "metadata": {},
   "outputs": [],
   "source": [
    "# Create a Python dictionary of 3 of your favourite foods with \n",
    "# The keys of the dictionary should be the food name and the values their price\n"
   ]
  },
  {
   "cell_type": "code",
   "execution_count": 15,
   "metadata": {},
   "outputs": [],
   "source": [
    "# Create a bar graph where the x-axis is the keys of the dictionary\n",
    "# and the y-axis is the values of the dictionary\n",
    "\n",
    "\n",
    "# Add a title, xlabel and ylabel to the plot\n"
   ]
  },
  {
   "cell_type": "code",
   "execution_count": 16,
   "metadata": {},
   "outputs": [],
   "source": [
    "# Make the same plot as above, except this time make the bars go horizontal\n"
   ]
  },
  {
   "cell_type": "markdown",
   "metadata": {},
   "source": [
    "All this food plotting is making me hungry. But we've got a couple of plots to go.\n",
    "\n",
    "Let's see a histogram."
   ]
  },
  {
   "cell_type": "code",
   "execution_count": 17,
   "metadata": {},
   "outputs": [],
   "source": [
    "# Create a random NumPy array of 1000 normally distributed numbers using NumPy and save it to X\n",
    "\n",
    "\n",
    "# Create a histogram plot of X\n"
   ]
  },
  {
   "cell_type": "code",
   "execution_count": 18,
   "metadata": {},
   "outputs": [],
   "source": [
    "# Create a NumPy array of 1000 random numbers and save it to X\n",
    "\n",
    "\n",
    "# Create a histogram plot of X\n"
   ]
  },
  {
   "cell_type": "markdown",
   "metadata": {},
   "source": [
    "Notice how the distributions (spread of data) are different. Why do they differ? \n",
    "\n",
    "What else can you find out about the normal distribution? \n",
    "\n",
    "Can you think of any other kinds of data which may be normally distributed?\n",
    "\n",
    "These questions aren't directly related to plotting or Matplotlib but they're helpful to think of.\n",
    "\n",
    "Now let's try make some subplots. A subplot is another name for a figure with multiple plots on it."
   ]
  },
  {
   "cell_type": "code",
   "execution_count": 19,
   "metadata": {},
   "outputs": [],
   "source": [
    "# Create an empty subplot with 2 rows and 2 columns (4 subplots total)\n"
   ]
  },
  {
   "cell_type": "markdown",
   "metadata": {},
   "source": [
    "Notice how the subplot has multiple figures. Now let's add data to each axes."
   ]
  },
  {
   "cell_type": "code",
   "execution_count": 20,
   "metadata": {},
   "outputs": [],
   "source": [
    "# Create the same plot as above with 2 rows and 2 columns and figsize of (10, 5)\n",
    "\n",
    "\n",
    "# Plot X versus X/2 on the top left axes\n",
    "\n",
    "\n",
    "# Plot a scatter plot of 10 random numbers on each axis on the top right subplot\n",
    "\n",
    "\n",
    "# Plot a bar graph of the favourite food keys and values on the bottom left subplot\n",
    "\n",
    "\n",
    "# Plot a histogram of 1000 random normally distributed numbers on the bottom right subplot\n"
   ]
  },
  {
   "cell_type": "markdown",
   "metadata": {},
   "source": [
    "Woah. There's a lot going on there.\n",
    "\n",
    "Now we've seen how to plot with Matplotlib and data directly. Let's practice using Matplotlib to plot with pandas.\n",
    "\n",
    "First we'll need to import pandas and create a DataFrame work with."
   ]
  },
  {
   "cell_type": "code",
   "execution_count": 21,
   "metadata": {},
   "outputs": [],
   "source": [
    "# Import pandas as pd\n"
   ]
  },
  {
   "cell_type": "code",
   "execution_count": 22,
   "metadata": {},
   "outputs": [],
   "source": [
    "# Import the '../data/car-sales.csv' into a DataFame called car_sales and view\n"
   ]
  },
  {
   "cell_type": "code",
   "execution_count": 23,
   "metadata": {},
   "outputs": [],
   "source": [
    "# Try to plot the 'Price' column using the plot() function\n"
   ]
  },
  {
   "cell_type": "markdown",
   "metadata": {},
   "source": [
    "Why doesn't it work?\n",
    "\n",
    "Hint: It's not numeric data.\n",
    "\n",
    "In the process of turning it to numeric data, let's create another column which adds the total amount of sales and another one which shows what date the car was sold.\n",
    "\n",
    "Hint: To add a column up cumulatively, look up the cumsum() function. And to create a column of dates, look up the date_range() function."
   ]
  },
  {
   "cell_type": "code",
   "execution_count": 24,
   "metadata": {},
   "outputs": [],
   "source": [
    "# Remove the symbols, the final two numbers from the 'Price' column and convert it to numbers\n"
   ]
  },
  {
   "cell_type": "code",
   "execution_count": 25,
   "metadata": {},
   "outputs": [],
   "source": [
    "# Add a column called 'Total Sales' to car_sales which cumulatively adds the 'Price' column\n",
    "\n",
    "\n",
    "# Add a column called 'Sale Date' which lists a series of successive dates starting from today (your today)\n",
    "\n",
    "# View the car_sales DataFrame\n"
   ]
  },
  {
   "cell_type": "markdown",
   "metadata": {},
   "source": [
    "Now we've got a numeric column (`Total Sales`) and a dates column (`Sale Date`), let's visualize them."
   ]
  },
  {
   "cell_type": "code",
   "execution_count": 26,
   "metadata": {},
   "outputs": [],
   "source": [
    "# Use the plot() function to plot the 'Sale Date' column versus the 'Total Sales' column\n"
   ]
  },
  {
   "cell_type": "code",
   "execution_count": 27,
   "metadata": {},
   "outputs": [],
   "source": [
    "# Convert the 'Price' column to the integers\n",
    "\n",
    "\n",
    "# Create a scatter plot of the 'Odometer (KM)' and 'Price' column using the plot() function\n"
   ]
  },
  {
   "cell_type": "code",
   "execution_count": 28,
   "metadata": {},
   "outputs": [],
   "source": [
    "# Create a NumPy array of random numbers of size (10, 4) and save it to X\n",
    "\n",
    "\n",
    "# Turn the NumPy array X into a DataFrame with columns called ['a', 'b', 'c', 'd']\n",
    "\n",
    "\n",
    "# Create a bar graph of the DataFrame\n"
   ]
  },
  {
   "cell_type": "code",
   "execution_count": 29,
   "metadata": {},
   "outputs": [],
   "source": [
    "# Create a bar graph of the 'Make' and 'Odometer (KM)' columns in the car_sales DataFrame\n"
   ]
  },
  {
   "cell_type": "code",
   "execution_count": 30,
   "metadata": {},
   "outputs": [],
   "source": [
    "# Create a histogram of the 'Odometer (KM)' column\n"
   ]
  },
  {
   "cell_type": "code",
   "execution_count": 31,
   "metadata": {},
   "outputs": [],
   "source": [
    "# Create a histogram of the 'Price' column with 20 bins\n"
   ]
  },
  {
   "cell_type": "markdown",
   "metadata": {},
   "source": [
    "Now we've seen a few examples of plotting directly from DataFrames using the `car_sales` dataset.\n",
    "\n",
    "Let's try using a different dataset."
   ]
  },
  {
   "cell_type": "code",
   "execution_count": 32,
   "metadata": {},
   "outputs": [],
   "source": [
    "# Import \"../data/heart-disease.csv\" and save it to the variable \"heart_disease\"\n"
   ]
  },
  {
   "cell_type": "code",
   "execution_count": 33,
   "metadata": {},
   "outputs": [],
   "source": [
    "# View the first 10 rows of the heart_disease DataFrame\n"
   ]
  },
  {
   "cell_type": "code",
   "execution_count": 34,
   "metadata": {},
   "outputs": [],
   "source": [
    "# Create a histogram of the \"age\" column with 50 bins\n"
   ]
  },
  {
   "cell_type": "code",
   "execution_count": 35,
   "metadata": {},
   "outputs": [],
   "source": [
    "# Call plot.hist() on the heart_disease DataFrame and toggle the\n",
    "# \"subplots\" parameter to True\n"
   ]
  },
  {
   "cell_type": "markdown",
   "metadata": {},
   "source": [
    "That plot looks pretty squished. Let's change the figsize."
   ]
  },
  {
   "cell_type": "code",
   "execution_count": 36,
   "metadata": {},
   "outputs": [],
   "source": [
    "# Call the same line of code from above except change the \"figsize\" parameter\n",
    "# to be (10, 30)\n"
   ]
  },
  {
   "cell_type": "markdown",
   "metadata": {},
   "source": [
    "Now let's try comparing two variables versus the target variable.\n",
    "\n",
    "More specifially we'll see how age and cholesterol combined effect the target in **patients over 50 years old**.\n",
    "\n",
    "For this next challenge, we're going to be replicating the following plot:\n",
    "\n",
    "<img src=\"../images/matplotlib-heart-disease-chol-age-plot.png\"/>"
   ]
  },
  {
   "cell_type": "code",
   "execution_count": 37,
   "metadata": {},
   "outputs": [],
   "source": [
    "# Replicate the above plot in whichever way you see fit\n",
    "\n",
    "# Note: The method below is only one way of doing it, yours might be\n",
    "# slightly different\n",
    "\n",
    "# Create DataFrame with patients over 50 years old\n",
    "\n",
    "\n",
    "# Create the plot\n",
    "\n",
    "\n",
    "# Plot the data\n",
    "\n",
    "\n",
    "# Customize the plot\n",
    "\n",
    "\n",
    "# Add a meanline\n"
   ]
  },
  {
   "cell_type": "markdown",
   "metadata": {},
   "source": [
    "Beatiful, now you've created a plot of two different variables, let's change the style."
   ]
  },
  {
   "cell_type": "code",
   "execution_count": 38,
   "metadata": {},
   "outputs": [],
   "source": [
    "# Check what styles are available under plt\n"
   ]
  },
  {
   "cell_type": "code",
   "execution_count": 39,
   "metadata": {},
   "outputs": [],
   "source": [
    "# Change the style to use \"seaborn-whitegrid\"\n"
   ]
  },
  {
   "cell_type": "markdown",
   "metadata": {},
   "source": [
    "Now the style has been changed, we'll replot the same figure from above and see what it looks like.\n",
    "\n",
    "If you've changed the style correctly, it should look like the following:\n",
    "<img src=\"../images/matplotlib-heart-disease-chol-age-plot-seaborn-whitegrid.png\"/>\n"
   ]
  },
  {
   "cell_type": "code",
   "execution_count": 40,
   "metadata": {},
   "outputs": [],
   "source": [
    "# Reproduce the same figure as above with the \"seaborn-whitegrid\" style\n",
    "\n",
    "# Create the plot\n",
    "\n",
    "\n",
    "# Plot the data\n",
    "\n",
    "\n",
    "# Customize the plot\n",
    "\n",
    "\n",
    "# Add a meanline\n"
   ]
  },
  {
   "cell_type": "markdown",
   "metadata": {},
   "source": [
    "Wonderful, you've changed the style of the plots and the figure is looking different but the dots aren't a very good colour.\n",
    "\n",
    "Let's change the `cmap` parameter of `scatter()` as well as the `color` parameter of `axhline()` to fix it.\n",
    "\n",
    "Completing this step correctly should result in a figure which looks like this:\n",
    "<img src=\"../images/matplotlib-heart-disease-chol-age-plot-cmap-change.png\"/>"
   ]
  },
  {
   "cell_type": "code",
   "execution_count": 41,
   "metadata": {},
   "outputs": [],
   "source": [
    "# Replot the same figure as above except change the \"cmap\" parameter\n",
    "# of scatter() to \"winter\"\n",
    "# Also change the \"color\" parameter of axhline() to \"red\"\n",
    "\n",
    "# Create the plot\n",
    "\n",
    "\n",
    "# Plot the data\n",
    "\n",
    "\n",
    "# Customize the plot\n",
    "\n",
    "\n",
    "# Add a meanline\n"
   ]
  },
  {
   "cell_type": "markdown",
   "metadata": {},
   "source": [
    "Beautiful! Now our figure has an upgraded color scheme let's save it to file."
   ]
  },
  {
   "cell_type": "code",
   "execution_count": 42,
   "metadata": {},
   "outputs": [],
   "source": [
    "# Save the current figure using savefig(), the file name can be anything you want\n"
   ]
  },
  {
   "cell_type": "code",
   "execution_count": 43,
   "metadata": {},
   "outputs": [],
   "source": [
    "# Reset the figure by calling plt.subplots()\n"
   ]
  },
  {
   "cell_type": "markdown",
   "metadata": {},
   "source": [
    "## Extensions\n",
    "\n",
    "For more exercises, check out the [Matplotlib tutorials page](https://matplotlib.org/3.1.1/tutorials/index.html). A good practice would be to read through it and for the parts you find interesting, add them into the end of this notebook.\n",
    "\n",
    "The next place you could go is the [Stack Overflow page for the top questions and answers for Matplotlib](https://stackoverflow.com/questions/tagged/matplotlib?sort=MostVotes&edited=true). Often, you'll find some of the most common and useful Matplotlib functions here. Don't forget to play around with the Stack Overflow filters! You'll likely find something helpful here.\n",
    "\n",
    "Finally, as always, remember, the best way to learn something new is to try it. And try it relentlessly. Always be asking yourself, \"is there a better way this data could be visualized so it's easier to understand?\""
   ]
  }
 ],
 "metadata": {
  "kernelspec": {
   "display_name": "Python 3 (ipykernel)",
   "language": "python",
   "name": "python3"
  },
  "language_info": {
   "codemirror_mode": {
    "name": "ipython",
    "version": 3
   },
   "file_extension": ".py",
   "mimetype": "text/x-python",
   "name": "python",
   "nbconvert_exporter": "python",
   "pygments_lexer": "ipython3",
   "version": "3.10.11"
  }
 },
 "nbformat": 4,
 "nbformat_minor": 2
}
